{
  "nbformat": 4,
  "nbformat_minor": 0,
  "metadata": {
    "colab": {
      "provenance": []
    },
    "kernelspec": {
      "name": "python3",
      "display_name": "Python 3"
    },
    "language_info": {
      "name": "python"
    }
  },
  "cells": [
    {
      "cell_type": "markdown",
      "source": [
        "Task 1"
      ],
      "metadata": {
        "id": "Y7zh-bTbIhiH"
      }
    },
    {
      "cell_type": "code",
      "execution_count": 89,
      "metadata": {
        "colab": {
          "base_uri": "https://localhost:8080/"
        },
        "id": "L_mY1Jz6IUs_",
        "outputId": "72c42e62-c50b-4cb3-f32d-77bc5ecc520e"
      },
      "outputs": [
        {
          "output_type": "stream",
          "name": "stdout",
          "text": [
            "-------------------------------------------------\n",
            "Train Time up:  09:00\n",
            "Tickets available up:  480\n",
            "Train Time down:  10:00\n",
            "Tickets available down:  480\n",
            "-------------------------------------------------\n",
            "Train Time up:  11:00\n",
            "Tickets available up:  480\n",
            "Train Time down:  12:00\n",
            "Tickets available down:  480\n",
            "-------------------------------------------------\n",
            "Train Time up:  13:00\n",
            "Tickets available up:  480\n",
            "Train Time down:  14:00\n",
            "Tickets available down:  480\n",
            "-------------------------------------------------\n",
            "Train Time up:  15:00\n",
            "Tickets available up:  480\n",
            "Train Time down:  16:00\n",
            "Tickets available down:  480\n",
            "-------------------------------------------------\n"
          ]
        }
      ],
      "source": [
        "# Initialize data structures for storing passenger counts and total revenue\n",
        "total_revenue_up = 0\n",
        "total_revenue_down = 0\n",
        "\n",
        "# Set up the train times and initial ticket availability\n",
        "train_times_up = [\"09:00\", \"11:00\", \"13:00\", \"15:00\"]\n",
        "train_times_down = [\"10:00\", \"12:00\", \"14:00\", \"16:00\"]\n",
        "passengers_up = [0,0,0,0]\n",
        "passengers_down = [0,0,0,0]\n",
        "revenue_up = [0,0,0,0]\n",
        "revenue_down = [0,0,0,0]\n",
        "\n",
        "# Initialize the number of tickets available for each train\n",
        "tickets_available_up = [80 * 6 for _ in train_times_up]  # 6 coaches with 80 seats each\n",
        "tickets_available_down = [80 * 6 for _ in train_times_down]  # 6 coaches with 80 seats each\n",
        "\n",
        "def display():\n",
        "  print(\"-------------------------------------------------\")\n",
        "  y = 0\n",
        "  for i in range(4):\n",
        "    print(\"Train Time up: \",train_times_up[i])\n",
        "    print(\"Tickets available up: \",tickets_available_up[i])\n",
        "    print(\"Train Time down: \",train_times_down[i])\n",
        "    print(\"Tickets available down: \",tickets_available_down[i])\n",
        "    print(\"-------------------------------------------------\")\n",
        "  return\n",
        "\n",
        "\n",
        "# Store the initialized data structures for further use in later tasks\n",
        "train_details = {\n",
        "    \"train_times_up\": train_times_up,\n",
        "    \"train_times_down\": train_times_down,\n",
        "    \"total_revenue_up\": total_revenue_up,\n",
        "    \"total_revenue_down\": total_revenue_down,\n",
        "}\n",
        "display()"
      ]
    },
    {
      "cell_type": "markdown",
      "source": [
        "Task 2"
      ],
      "metadata": {
        "id": "B-Z7Az32PZWE"
      }
    },
    {
      "cell_type": "code",
      "source": [
        "import math  # Needed for calculating group discounts\n",
        "\n",
        "def purchase_tickets(train_details):\n",
        "    # Check which train journey the passenger wants to book tickets for\n",
        "    train_journey_up = input(\"Select train journey up (09:00, 11:00, 13:00, 15:00): \")\n",
        "    train_journey_down = input(\"Select train journey down (10:00, 12:00, 14:00, 16:00): \")\n",
        "\n",
        "    # Check if the specified train journeys exist\n",
        "    if train_journey_up not in train_details[\"train_times_up\"] or train_journey_down not in train_details[\"train_times_down\"]:\n",
        "        print(\"Invalid train journey selection. Please choose from the available options.\")\n",
        "        return\n",
        "\n",
        "    if train_journey_up > train_journey_down:\n",
        "      print(\"Invalid Train Times down, \")\n",
        "      return\n",
        "    # Get the number of tickets to be purchased\n",
        "    num_tickets = int(input(\"Number of tickets: \"))\n",
        "\n",
        "    # Check if the required number of tickets is available for both train journeys\n",
        "    if num_tickets > tickets_available_up[train_times_up.index(train_journey_up)]:\n",
        "        print(\"Insufficient tickets available for the selected train journey up.\")\n",
        "        return\n",
        "\n",
        "    if num_tickets > tickets_available_down[train_times_down.index(train_journey_down)]:\n",
        "        print(\"Insufficient tickets available for the selected train journey down.\")\n",
        "        return\n",
        "\n",
        "    # Calculate the total price before applying group discounts\n",
        "    total_price = num_tickets * 50  # $25 for up and $25 for down\n",
        "\n",
        "    # Apply group discount if applicable\n",
        "    if 10 <= num_tickets <= 80:\n",
        "        discount_factor = math.floor(num_tickets / 10)\n",
        "        discount_amount = discount_factor * 50\n",
        "        total_price -= discount_amount\n",
        "\n",
        "    # Update the number of tickets available for the selected train journeys\n",
        "    t = train_times_up.index(train_journey_up)\n",
        "    tickets_available_up[train_times_up.index(train_journey_up)] -= num_tickets\n",
        "    tickets_available_down[train_times_down.index(train_journey_down)] -= num_tickets\n",
        "    passengers_up[t] += num_tickets\n",
        "    passengers_down[t] += num_tickets\n",
        "\n",
        "\n",
        "    # Update the total revenue for the selected train journeys\n",
        "    train_details[\"total_revenue_up\"] += total_price / 2  # Split the total price between up and down journeys\n",
        "    train_details[\"total_revenue_down\"] += total_price / 2\n",
        "    revenue_up[t] += total_price / 2\n",
        "    revenue_down[t] += total_price / 2\n",
        "\n",
        "    # Display updated ticket availability and total revenue\n",
        "    print(\"\\nUpdated train times and ticket availability:\")\n",
        "    print(\"Train Times Up:\", train_times_up)\n",
        "    print(\"Tickets Available Up:\", tickets_available_up)\n",
        "    print(\"\\nTrain Times Down:\", train_times_down)\n",
        "    print(\"Tickets Available Down:\", tickets_available_down)\n",
        "\n",
        "    print(\"\\nUpdated total revenue:\")\n",
        "    print(\"Total Revenue Up:\", train_details[\"total_revenue_up\"])\n",
        "    print(\"Total Revenue Down:\", train_details[\"total_revenue_down\"])\n",
        "\n",
        "    print(\"\\nTickets purchased successfully!\")\n",
        "    return\n",
        "loop = True\n",
        "while (loop):\n",
        "  print('[1]---[Details]\\n[2]---[Booking]\\n[3]---[Exit]\\n')\n",
        "  i = int(input('Enter:'))\n",
        "  if i == 1:\n",
        "    display()\n",
        "  elif i == 2:\n",
        "    purchase_tickets(train_details)\n",
        "    for i in tickets_available_up:\n",
        "        if i == 0:\n",
        "          loop = False\n",
        "        else:\n",
        "          loop = True\n",
        "  elif i == 3:\n",
        "    break"
      ],
      "metadata": {
        "colab": {
          "base_uri": "https://localhost:8080/"
        },
        "id": "1x3OCkppI3MP",
        "outputId": "b50a2bc8-da4a-46e8-e41d-b939a1181a10"
      },
      "execution_count": 90,
      "outputs": [
        {
          "name": "stdout",
          "output_type": "stream",
          "text": [
            "[1]---[Details]\n",
            "[2]---[Booking]\n",
            "[3]---[Exit]\n",
            "\n",
            "Enter:1\n",
            "-------------------------------------------------\n",
            "Train Time up:  09:00\n",
            "Tickets available up:  480\n",
            "Train Time down:  10:00\n",
            "Tickets available down:  480\n",
            "-------------------------------------------------\n",
            "Train Time up:  11:00\n",
            "Tickets available up:  480\n",
            "Train Time down:  12:00\n",
            "Tickets available down:  480\n",
            "-------------------------------------------------\n",
            "Train Time up:  13:00\n",
            "Tickets available up:  480\n",
            "Train Time down:  14:00\n",
            "Tickets available down:  480\n",
            "-------------------------------------------------\n",
            "Train Time up:  15:00\n",
            "Tickets available up:  480\n",
            "Train Time down:  16:00\n",
            "Tickets available down:  480\n",
            "-------------------------------------------------\n",
            "[1]---[Details]\n",
            "[2]---[Booking]\n",
            "[3]---[Exit]\n",
            "\n",
            "Enter:2\n",
            "Select train journey up (09:00, 11:00, 13:00, 15:00): 09:00\n",
            "Select train journey down (10:00, 12:00, 14:00, 16:00): 10:00\n",
            "Number of tickets: 30\n",
            "\n",
            "Updated train times and ticket availability:\n",
            "Train Times Up: ['09:00', '11:00', '13:00', '15:00']\n",
            "Tickets Available Up: [450, 480, 480, 480]\n",
            "\n",
            "Train Times Down: ['10:00', '12:00', '14:00', '16:00']\n",
            "Tickets Available Down: [450, 480, 480, 480]\n",
            "\n",
            "Updated total revenue:\n",
            "Total Revenue Up: 675.0\n",
            "Total Revenue Down: 675.0\n",
            "\n",
            "Tickets purchased successfully!\n",
            "[1]---[Details]\n",
            "[2]---[Booking]\n",
            "[3]---[Exit]\n",
            "\n",
            "Enter:3\n"
          ]
        }
      ]
    },
    {
      "cell_type": "markdown",
      "source": [
        "Task 30"
      ],
      "metadata": {
        "id": "nCuNEna8a0Gy"
      }
    },
    {
      "cell_type": "code",
      "source": [
        "print(\"No. of passengers traveled in each train up: \",passengers_up)\n",
        "print(\"No. of passengers traveled in each train down: \",passengers_down)\n",
        "print(\"Revenue per train going up: \",revenue_up)\n",
        "print(\"Revenue per train going down: \",revenue_down)\n",
        "print(\"Total passengers going up\",sum(passengers_up))\n",
        "print(\"Total passengers going down\",sum(passengers_down))\n",
        "print(\"Total Revenue Up:\", train_details[\"total_revenue_up\"])\n",
        "print(\"Total Revenue Down:\", train_details[\"total_revenue_down\"])\n",
        "print(\"Highest no. of passengers went up through tain: \",train_times_up[passengers_up.index(max(passengers_up))])\n",
        "print(\"Highest no. of passengers went down through tain: \",train_times_down[passengers_down.index(max(passengers_down))])"
      ],
      "metadata": {
        "colab": {
          "base_uri": "https://localhost:8080/"
        },
        "id": "hGcEUC7_bUBl",
        "outputId": "7d78a5d2-cd0f-4a28-c444-53ee89f336e1"
      },
      "execution_count": 91,
      "outputs": [
        {
          "output_type": "stream",
          "name": "stdout",
          "text": [
            "No. of passengers traveled in each train up:  [30, 0, 0, 0]\n",
            "No. of passengers traveled in each train down:  [30, 0, 0, 0]\n",
            "Revenue per train going up:  [675.0, 0, 0, 0]\n",
            "Revenue per train going down:  [675.0, 0, 0, 0]\n",
            "Total passengers going up 30\n",
            "Total passengers going down 30\n",
            "Total Revenue Up: 675.0\n",
            "Total Revenue Down: 675.0\n",
            "Highest no. of passengers went up through tain:  09:00\n",
            "Highest no. of passengers went down through tain:  10:00\n"
          ]
        }
      ]
    },
    {
      "cell_type": "code",
      "source": [],
      "metadata": {
        "id": "pokAgnIknUxb"
      },
      "execution_count": null,
      "outputs": []
    }
  ]
}